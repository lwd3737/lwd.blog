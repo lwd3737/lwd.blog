{
 "cells": [
  {
   "cell_type": "code",
   "execution_count": 9,
   "metadata": {},
   "outputs": [
    {
     "name": "stdout",
     "output_type": "stream",
     "text": [
      "test4f32f2323fd3d33dd3\n",
      "ddasafsafasfasfdd33d3dd33ddd\n",
      "testdd33dd3\n",
      "ff32f32ccwcwcweff4f4f3r33r\n",
      "ff32f32ccwcwcweff4f4f3r33r\n",
      "ff32f32ccwcwcweff4f4f3\n",
      "ff32\n",
      "ddasafsafasfasfd33d3\n",
      "ddasafsafasfasfd33d3\n",
      "ddasafsafasfasfdddd\n",
      "12345ff33434d3d3\n",
      "12345ff33434d3d3\n",
      "ff32f32ccwcwcwesacascacascsac\n",
      "ff32f32ccwcwcwesacascacascsac\n",
      "fd3d33df32f32\n",
      "test3dd32d32d2\n",
      "test4f32f2323f\n",
      "12345ff33434\n",
      "12345ff33434\n",
      "12345ff33434\n",
      "ddasafsafasfasf\n",
      "ddasafsafasfasf\n",
      "ff32f32ccwcwcwe\n",
      "ff32f32ccwcwcwe\n",
      "ff32f32ccwcwcwe\n",
      "ff32f32ccwcwcwe\n",
      "ff32f32ccwcwcwe\n",
      "ff32f32ccwcwcwe\n",
      "ff32f32ccwcwcwe\n",
      "ff32f32ccwcwcwe\n",
      "ff32f32ccwcwcwe\n",
      "ff32f32ccwcwcwe\n",
      "ff32f32ccwcwcwe\n",
      "ff32f32ccwcwcwe\n",
      "ff32f32ccwcwcwe\n",
      "ff32f32ccwcwcwe\n",
      "ff32f32ccwcwcwe\n",
      "ff32f32g4gg544\n",
      "32d32d32\n",
      "wfeefwfwewfe\n",
      "fassaf\n",
      "asfsafsa\n",
      "asfsafsa\n",
      "1234\n",
      "ㄷㄷㄷ\n",
      "ㅅㄷㄴㅅ\n",
      "test\n",
      "test 4\n",
      "v23f4ff3\n",
      "2134\n",
      "test2\n",
      "test\n",
      "테스트입니다\n",
      "안녕하세요\n",
      "124124\n",
      "2134\n",
      "1234\n",
      "124214\n",
      "qweqe\n",
      "qrqr\n",
      "1234\n"
     ]
    }
   ],
   "source": [
    "a = Article.objects.get(pk=2)\n",
    "c = Comment.objects.all().prefetch_related('parent')\n",
    "\n",
    "for i in c:\n",
    "    if i.parent:\n",
    "        r = Comment.objects.get(parent_id=i.parent.id, pk=i.id)\n",
    "        print(r.text)"
   ]
  },
  {
   "cell_type": "code",
   "execution_count": null,
   "metadata": {},
   "outputs": [],
   "source": []
  }
 ],
 "metadata": {
  "kernelspec": {
   "display_name": "Django Shell-Plus",
   "language": "python",
   "name": "django_extensions"
  },
  "language_info": {
   "codemirror_mode": {
    "name": "ipython",
    "version": 3
   },
   "file_extension": ".py",
   "mimetype": "text/x-python",
   "name": "python",
   "nbconvert_exporter": "python",
   "pygments_lexer": "ipython3",
   "version": "3.7.2"
  }
 },
 "nbformat": 4,
 "nbformat_minor": 4
}
